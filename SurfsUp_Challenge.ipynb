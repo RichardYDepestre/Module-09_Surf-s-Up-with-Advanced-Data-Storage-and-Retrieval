{
 "cells": [
  {
   "cell_type": "code",
   "execution_count": null,
   "metadata": {},
   "outputs": [],
   "source": [
    "# Dependencies\n",
    "import numpy as np\n",
    "\n",
    "# Python SQL toolkit and Object Relational Mapper\n",
    "import sqlalchemy\n",
    "from sqlalchemy.ext.automap import automap_base\n",
    "from sqlalchemy.orm import Session\n",
    "from sqlalchemy import create_engine, func"
   ]
  },
  {
   "cell_type": "code",
   "execution_count": null,
   "metadata": {},
   "outputs": [],
   "source": [
    "database_path = \"../resources/hawaii.sqlite\"\n",
    "engine = create_engine(f\"sqlite:///{database_path}\")\n",
    "# engine = create_engine(\"sqlite:///hawaii.sqlite\")\n",
    "\n",
    "# reflect an existing database into a new model\n",
    "Base = automap_base()\n",
    "# reflect the tables\n",
    "Base.prepare(engine, reflect=True)\n",
    "\n",
    "# Save references to each table\n",
    "Measurement = Base.classes.measurement\n",
    "Station = Base.classes.station"
   ]
  },
  {
   "cell_type": "code",
   "execution_count": null,
   "metadata": {},
   "outputs": [],
   "source": [
    "# Create our session (link) from Python to the DB\n",
    "session = Session(engine)"
   ]
  },
  {
   "cell_type": "markdown",
   "metadata": {},
   "source": [
    "## D1: Determine the Summary Statistics for June"
   ]
  },
  {
   "cell_type": "code",
   "execution_count": null,
   "metadata": {},
   "outputs": [],
   "source": [
    "# 1. Import the sqlalchemy extract function.\n",
    "from sqlalchemy import extract\n",
    "import calendar\n",
    "import datetime as dt\n",
    "import pandas as pd\n",
    "import dataframe_image as dfi\n",
    "# 2. Write a query that filters the Measurement table to retrieve the temperatures for the month of June. \n",
    "\n",
    "# Perform a query to retrieve the data and precipitation scores\n",
    "year = 2016; month = 6\n",
    "\n",
    "num_days = calendar.monthrange(year, month)[1]\n",
    "\n",
    "start_date = dt.date(year, month, 1)\n",
    "# print(start_date);print(end_date);print(num_days)\n",
    "end_date = dt.date(year, month, num_days)\n",
    "\n",
    "results = session.query(Measurement.date, Measurement.tobs).filter(Measurement.date.between(start_date, end_date)).all()\n",
    "\n",
    "results_df = pd.DataFrame(results, columns=[['Date','June Temps']])\n",
    "file_dir = '../images/'\n",
    "# print(results_df)\n",
    "dfi.export(results_df.head(20), f\"{file_dir}m10_challenge_temp_june.jpg\")\n",
    "results_df.describe()\n",
    "dfi.export(results_df.describe(), f\"{file_dir}m10_challenge_temp_summary_june.jpg\")"
   ]
  },
  {
   "cell_type": "code",
   "execution_count": null,
   "metadata": {},
   "outputs": [],
   "source": [
    "#  3. Convert the June temperatures to a list.\n",
    "results_df.values.tolist()"
   ]
  },
  {
   "cell_type": "code",
   "execution_count": null,
   "metadata": {},
   "outputs": [],
   "source": [
    "# 4. Create a DataFrame from the list of temperatures for the month of June. \n",
    "results_df = pd.DataFrame(results, columns=[['Date','June Temps']])\n",
    "results_df"
   ]
  },
  {
   "cell_type": "code",
   "execution_count": null,
   "metadata": {},
   "outputs": [],
   "source": [
    "# 5. Calculate and print out the summary statistics for the June temperature DataFrame.\n",
    "results_df.describe()"
   ]
  },
  {
   "cell_type": "markdown",
   "metadata": {},
   "source": [
    "## D2: Determine the Summary Statistics for December"
   ]
  },
  {
   "cell_type": "code",
   "execution_count": null,
   "metadata": {},
   "outputs": [],
   "source": [
    "# 6. Write a query that filters the Measurement table to retrieve the temperatures for the month of December.\n",
    "year = 2016; month = 12\n",
    "\n",
    "num_days = calendar.monthrange(year, month)[1]\n",
    "\n",
    "start_date = dt.date(year, month, 1)\n",
    "# print(start_date);print(end_date);print(num_days)\n",
    "end_date = dt.date(year, month, num_days)\n",
    "\n",
    "results = session.query(Measurement.date, Measurement.tobs).filter(Measurement.date.between(start_date, end_date)).all()\n",
    "\n",
    "results_df = pd.DataFrame(results, columns=[['Date','June Temps']])\n",
    "file_dir = '../images/'\n",
    "# print(results_df)\n",
    "dfi.export(results_df.head(20), f\"{file_dir}m10_challenge_temp_dec.jpg\")\n",
    "results_df.describe()\n",
    "dfi.export(results_df.describe(), f\"{file_dir}m10_challenge_temp_summary_dec.jpg\")"
   ]
  },
  {
   "cell_type": "code",
   "execution_count": null,
   "metadata": {},
   "outputs": [],
   "source": [
    "# 7. Convert the December temperatures to a list.\n",
    "results_df.values.tolist()"
   ]
  },
  {
   "cell_type": "code",
   "execution_count": null,
   "metadata": {},
   "outputs": [],
   "source": [
    "# 8. Create a DataFrame from the list of temperatures for the month of December. \n",
    "results_df = pd.DataFrame(results, columns=[['Date','Dec Temps']])\n",
    "results_df"
   ]
  },
  {
   "cell_type": "code",
   "execution_count": null,
   "metadata": {},
   "outputs": [],
   "source": [
    "# 9. Calculate and print out the summary statistics for the Decemeber temperature DataFrame.\n",
    "results_df.describe()"
   ]
  },
  {
   "cell_type": "code",
   "execution_count": null,
   "metadata": {},
   "outputs": [],
   "source": []
  }
 ],
 "metadata": {
  "kernelspec": {
   "name": "pythondata",
   "display_name": "Python 3.8.8 64-bit ('PythonData': conda)"
  },
  "language_info": {
   "codemirror_mode": {
    "name": "ipython",
    "version": 3
   },
   "file_extension": ".py",
   "mimetype": "text/x-python",
   "name": "python",
   "nbconvert_exporter": "python",
   "pygments_lexer": "ipython3",
   "version": "3.8.8"
  }
 },
 "nbformat": 4,
 "nbformat_minor": 2
}