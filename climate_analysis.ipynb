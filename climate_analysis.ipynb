{
 "cells": [
  {
   "cell_type": "code",
   "execution_count": null,
   "metadata": {},
   "outputs": [],
   "source": [
    "%matplotlib inline\n",
    "from matplotlib import style\n",
    "style.use('fivethirtyeight')\n",
    "import matplotlib.pyplot as plt"
   ]
  },
  {
   "cell_type": "code",
   "execution_count": null,
   "metadata": {},
   "outputs": [],
   "source": [
    "import numpy as np\n",
    "import pandas as pd"
   ]
  },
  {
   "source": [
    "import datetime as dt"
   ],
   "cell_type": "code",
   "metadata": {},
   "execution_count": null,
   "outputs": []
  },
  {
   "source": [
    "# Reflect Tables into SQLAlchemy ORM\n",
    "### The ORM helps us keep our systems decoupled.\n",
    "### remember that your references will be to classes in your code instead of specific tables in the database, and that we'll be able to influence each class independently"
   ],
   "cell_type": "markdown",
   "metadata": {}
  },
  {
   "cell_type": "code",
   "execution_count": null,
   "metadata": {},
   "outputs": [],
   "source": [
    "# Python SQL toolkit and Object Relational Mapper\n",
    "import sqlalchemy\n",
    "from sqlalchemy.ext.automap import automap_base\n",
    "from sqlalchemy.orm import Session\n",
    "from sqlalchemy import create_engine, func"
   ]
  },
  {
   "source": [
    "## Database setup"
   ],
   "cell_type": "markdown",
   "metadata": {}
  },
  {
   "cell_type": "code",
   "execution_count": null,
   "metadata": {},
   "outputs": [],
   "source": [
    "# reflect an existing database into a new model.\n",
    "# to connect to our SQLite database, we need to use the create_engine() \n",
    "# function. This function doesn't actually connect to our database; it just \n",
    "# prepares the database file to be connected to later on.\n",
    "database_path = \"../../resources/hawaii.sqlite\"\n",
    "engine = create_engine(f\"sqlite:///{database_path}\")\n",
    "# reflect the tables into a new model\n",
    "Base = automap_base()\n",
    "Base.prepare(engine, reflect=True)\n",
    "\n",
    "\n",
    "    # We can view all of the classes that automap found\n",
    "# def get_table_references( sqlite_db):\n",
    "#     print(sqlite_db)\n",
    "#     con = sqlite3.connect(sqlite_db)\n",
    "\n",
    "#     cursor = con.cursor()\n",
    "#     sql = f\"select name from sqlite_master where type='table';\"\n",
    "#     table_list = cursor.execute(sql).fetchall()\n",
    "\n",
    "#     cursor.close()\n",
    "#     return table_list\n",
    "\n",
    "# def build_table_references(arg):\n",
    "#     return object\n",
    "\n",
    "# base = prepare_db_for_connection(\"hawaii.sqlite\")\n",
    "# print(base)\n",
    "# for a_class in base.classes:\n",
    "#     print(a_class.name)\n",
    "# table_list = []\n",
    "# table_list = get_table_references(\"../resources/hawaii.sqlite\")\n",
    "# Metadata().tables.keys\n",
    "# for table in table_list:\n",
    "#     print(table[0])\n",
    "#     base.classes.table[0]\n",
    "# str.casefold(table_list(0))"
   ]
  },
  {
   "cell_type": "code",
   "execution_count": null,
   "metadata": {},
   "outputs": [],
   "source": [
    "# Save references to each table\n",
    "Measurement = Base.classes.measurement\n",
    "Station = Base.classes.station"
   ]
  },
  {
   "cell_type": "code",
   "execution_count": null,
   "metadata": {},
   "outputs": [],
   "source": [
    "# Create our session (link) from Python to the DB\n",
    "# to start a communication between the database and the python code\n",
    "session = Session(engine)\n",
    "result = session.query(Measurement.date, Measurement.prcp).all()\n",
    "# result"
   ]
  },
  {
   "cell_type": "markdown",
   "metadata": {},
   "source": [
    "# Exploratory Climate Analysis"
   ]
  },
  {
   "source": [
    "# Design a query to retrieve the last 12 months of precipitation data and plot the results. \n",
    "# Starting from the last data point in the database. \n",
    "\n",
    "# Calculate the date one year from the last date in data set.\n",
    "previous_year = dt.date(2017,8,23) - dt.timedelta(days=365)\n",
    "previous_year\n",
    "# Perform a query to retrieve the data and precipitation scores\n",
    "results= []\n",
    "results = session.query(Measurement.date, Measurement.prcp).filter(Measurement.date >= previous_year).all()\n",
    "# print(results)\n",
    "\n",
    "#### 9.2.2 Save Query Results > df = pd.DataFrame(results, columns=['date','precipitation'])\n",
    "# Save the query results as a Pandas DataFrame and set the index to the date column\n",
    "precipitation_df = pd.DataFrame(results, columns=[\"date\", \"precipitation\"])\n",
    "\n",
    "# Sort the dataframe by date\n",
    "precipitation_df.reset_index()\n",
    "precipitation_df.set_index(precipitation_df['date'], inplace=True)\n",
    "\n",
    "#### 9.2.3 Sort the DataFrame > df = df.sort_index()\n",
    "precipitation_df.sort_index\n",
    "# print(precipitation_df.head(25).to_string(index=False))\n",
    "# Use Pandas Plotting with Matplotlib to plot the data\n",
    "precipitation_df.plot()\n"
   ],
   "cell_type": "code",
   "metadata": {},
   "execution_count": null,
   "outputs": []
  },
  {
   "cell_type": "code",
   "execution_count": null,
   "metadata": {},
   "outputs": [],
   "source": [
    "#### 9.2.5 Generate the Summary\n",
    "# Use Pandas to calcualte the summary statistics for the precipitation data\n",
    "precipitation_df.describe()"
   ]
  },
  {
   "cell_type": "code",
   "execution_count": null,
   "metadata": {},
   "outputs": [],
   "source": [
    "# How many stations are available in this dataset?\n",
    "active_stations = session.query(func.count(Station.station)).all()\n",
    "# print(active_stations)\n",
    "# precipitation_df.isna()"
   ]
  },
  {
   "cell_type": "code",
   "execution_count": null,
   "metadata": {},
   "outputs": [],
   "source": [
    "# What are the most active stations?\n",
    "# List the stations and the counts in descending order.\n",
    "most_active_stations = session.query(Measurement.station, func.count(Measurement.station)).\\\n",
    "group_by(Measurement.station).order_by(func.count(Measurement.station).desc()).all()\n",
    "most_active_stations_filtered = []\n",
    "\n",
    "for station in most_active_stations:\n",
    "    most_active_stations_filtered.append(station[0])\n",
    "most_active_stations_filtered\n",
    "# most_active_stations"
   ]
  },
  {
   "cell_type": "code",
   "execution_count": null,
   "metadata": {},
   "outputs": [],
   "source": [
    "# Using the station id from the previous query, calculate the lowest temperature recorded, \n",
    "# highest temperature recorded, and average temperature most active station?\n",
    "session.query(func.min(Measurement.tobs), func.max(Measurement.tobs), func.avg(Measurement.tobs)).all()"
   ]
  },
  {
   "cell_type": "code",
   "execution_count": null,
   "metadata": {},
   "outputs": [],
   "source": [
    "# Choose the station with the highest number of temperature observations.\n",
    "# session.query(Markers).filter(Markers.owner.in_([f.friend_id for f in friends)]).all()\n",
    "# Query the last 12 months of temperature observation data for this station and plot the results as a histogram\n",
    "from tqdm import tqdm\n",
    "# print(most_active_stations_filtered)\n",
    "temp_by_stations = []\n",
    "for active_station in tqdm(most_active_stations_filtered):\n",
    "    temp_by_stations.append(session.query(func.min(Measurement.tobs), func.max(Measurement.tobs), func.avg(Measurement.tobs)).filter(Measurement.station == active_station).all())\n",
    "temp_by_stations"
   ]
  },
  {
   "cell_type": "code",
   "execution_count": null,
   "metadata": {},
   "outputs": [],
   "source": [
    "# Write a function called `calc_temps` that will accept start date and end date in the format '%Y-%m-%d' \n",
    "# and return the minimum, average, and maximum temperatures for that range of dates\n",
    "final_temp_obs = session.query(Measurement.tobs).\\\n",
    "filter(Measurement.station == 'USC00519281').\\\n",
    "filter(Measurement.date >= previous_year).all()\n"
   ]
  },
  {
   "cell_type": "markdown",
   "metadata": {},
   "source": [
    "# Challenge"
   ]
  },
  {
   "cell_type": "code",
   "execution_count": null,
   "metadata": {},
   "outputs": [],
   "source": [
    "#### convert temperature observation results to a dataframe\n",
    "temp_observations_df = pd.DataFrame(final_temp_obs, columns=['tobs'])\n",
    "temp_observations_df"
   ]
  },
  {
   "cell_type": "code",
   "execution_count": null,
   "metadata": {},
   "outputs": [],
   "source": [
    "import matplotlib.pyplot as plt\n",
    "# the 12 \"bins\" are visualized in this plot, just like you specified with your code df.plot.hist(bins=12).\n",
    "# \"Bin\" refers to each rectangular column in the plot\n",
    "temp_observations_df.plot.hist(bins=12)"
   ]
  },
  {
   "cell_type": "code",
   "execution_count": null,
   "metadata": {},
   "outputs": [],
   "source": []
  }
 ],
 "metadata": {
  "kernelspec": {
   "name": "python385jvsc74a57bd0a8a54c76b7a585e7f4e524cff6521f3db6ff49840c26efc3405040c8fb50183f",
   "display_name": "Python 3.8.5 64-bit ('base': conda)"
  },
  "language_info": {
   "codemirror_mode": {
    "name": "ipython",
    "version": 3
   },
   "file_extension": ".py",
   "mimetype": "text/x-python",
   "name": "python",
   "nbconvert_exporter": "python",
   "pygments_lexer": "ipython3",
   "version": "3.8.5"
  }
 },
 "nbformat": 4,
 "nbformat_minor": 2
}